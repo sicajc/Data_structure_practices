{
 "cells": [
  {
   "attachments": {},
   "cell_type": "markdown",
   "metadata": {},
   "source": [
    "### These exercises are from the following video:\n",
    "https://www.youtube.com/watch?v=tWVWeAqZ0WU&t=1611s"
   ]
  },
  {
   "cell_type": "code",
   "execution_count": 304,
   "metadata": {},
   "outputs": [],
   "source": [
    "graph = {\n",
    "    'a' : ['b','c'],\n",
    "    'b' : ['d'],\n",
    "    'c' : ['e'],\n",
    "    'd' : ['f'],\n",
    "    'e' : [],\n",
    "    'f' : []\n",
    "}"
   ]
  },
  {
   "attachments": {},
   "cell_type": "markdown",
   "metadata": {},
   "source": [
    "### We need start node or src node to sepcify where to start, also the whole graph info"
   ]
  },
  {
   "cell_type": "code",
   "execution_count": 305,
   "metadata": {},
   "outputs": [],
   "source": [
    "def graph_dfs(graph,start_node):\n",
    "    print(start_node)\n",
    "    \n",
    "    if graph[start_node] == []:\n",
    "        return False\n",
    "    \n",
    "    for e in graph[start_node]:\n",
    "        graph_dfs(graph,e)\n",
    "    "
   ]
  },
  {
   "cell_type": "code",
   "execution_count": 306,
   "metadata": {},
   "outputs": [
    {
     "name": "stdout",
     "output_type": "stream",
     "text": [
      "a\n",
      "b\n",
      "d\n",
      "f\n",
      "c\n",
      "e\n"
     ]
    }
   ],
   "source": [
    "graph_dfs(graph,start_node='a')"
   ]
  },
  {
   "attachments": {},
   "cell_type": "markdown",
   "metadata": {},
   "source": [
    "### DFS iterative using Stack"
   ]
  },
  {
   "cell_type": "code",
   "execution_count": 307,
   "metadata": {},
   "outputs": [],
   "source": [
    "def graph_dfs(graph,start_node):\n",
    "    # Instantiate start node.\n",
    "    if graph == {}:\n",
    "        print(\"Graph is empty\")\n",
    "        return False\n",
    "    \n",
    "    # Push start node into stack\n",
    "    stack = [start_node]\n",
    "    \n",
    "    while stack != []:\n",
    "        node = stack.pop()\n",
    "        print(node)\n",
    "        for n in graph[node]:\n",
    "            stack.append(n)\n",
    "        "
   ]
  },
  {
   "cell_type": "code",
   "execution_count": 308,
   "metadata": {},
   "outputs": [
    {
     "name": "stdout",
     "output_type": "stream",
     "text": [
      "a\n",
      "c\n",
      "e\n",
      "b\n",
      "d\n",
      "f\n"
     ]
    }
   ],
   "source": [
    "graph_dfs(graph,'a')"
   ]
  },
  {
   "attachments": {},
   "cell_type": "markdown",
   "metadata": {},
   "source": [
    "### Basic Queue"
   ]
  },
  {
   "cell_type": "code",
   "execution_count": 309,
   "metadata": {},
   "outputs": [],
   "source": [
    "import numpy as np\n",
    "class Queue:\n",
    "    def __init__(self,size,datatype):\n",
    "        self.arr = np.empty(size,dtype = datatype)\n",
    "        self.size = size\n",
    "        self.front = 0\n",
    "        self.rear  = 0\n",
    "    \n",
    "    def isFull(self):\n",
    "        n_rear = (self.rear + 1) % self.size\n",
    "        return n_rear == self.front\n",
    "    \n",
    "    def isEmpty(self):\n",
    "        return self.front == self.rear\n",
    "        \n",
    "        \n",
    "    def enqueue(self,val):\n",
    "        if self.isFull():\n",
    "            return \"Queue is full\"\n",
    "        else:\n",
    "            self.rear = (self.rear + 1) % self.size\n",
    "            self.arr[self.rear] = val\n",
    "        \n",
    "    def dequeue(self):\n",
    "        if self.isEmpty():\n",
    "            print(\"Queue is empty!\")\n",
    "            return None\n",
    "        else:\n",
    "            self.front = (self.front + 1) % self.size\n",
    "            val = self.arr[self.front]\n",
    "            self.arr[self.front] = 0\n",
    "            return val\n",
    "    def displayQueue(self):\n",
    "        for e in self.arr:\n",
    "            if e is not None:\n",
    "                print(e.value)\n",
    "    "
   ]
  },
  {
   "cell_type": "code",
   "execution_count": 310,
   "metadata": {},
   "outputs": [],
   "source": [
    "queueSize = 50\n",
    "type('a')\n",
    "\n",
    "q = Queue(queueSize,str)\n",
    "\n"
   ]
  },
  {
   "attachments": {},
   "cell_type": "markdown",
   "metadata": {},
   "source": [
    "### Breadth first search graph traversal"
   ]
  },
  {
   "cell_type": "code",
   "execution_count": 311,
   "metadata": {},
   "outputs": [],
   "source": [
    "def graph_bfs(graph,src_node):\n",
    "    queueSize = 50\n",
    "    q = Queue(queueSize,str)\n",
    "    q.enqueue(src_node)\n",
    "    \n",
    "    while q.isEmpty() is not True:\n",
    "        node = q.dequeue()\n",
    "        print(node)\n",
    "        for neighbor in graph[node]:\n",
    "            q.enqueue(neighbor)"
   ]
  },
  {
   "cell_type": "code",
   "execution_count": 312,
   "metadata": {},
   "outputs": [
    {
     "name": "stdout",
     "output_type": "stream",
     "text": [
      "a\n",
      "b\n",
      "c\n",
      "d\n",
      "e\n",
      "f\n"
     ]
    }
   ],
   "source": [
    "graph_bfs(graph,'a')"
   ]
  },
  {
   "attachments": {},
   "cell_type": "markdown",
   "metadata": {},
   "source": [
    "### Has path problem\n",
    "#### For an acyclic graph, check if the there is a path from src node to dst node"
   ]
  },
  {
   "cell_type": "code",
   "execution_count": 313,
   "metadata": {},
   "outputs": [],
   "source": [
    "g = {\n",
    "    'f' : ['i','g'],\n",
    "    'i' : ['g','k'],\n",
    "    'j' : ['i'],\n",
    "    'k' : [],\n",
    "    'g' : ['h'],\n",
    "    'h' : []\n",
    "}\n"
   ]
  },
  {
   "cell_type": "code",
   "execution_count": 314,
   "metadata": {},
   "outputs": [],
   "source": [
    "def haspath(graph,src,dst):\n",
    "    # Given a src node, return whether there is a path from the src node to the dst node\n",
    "    # More advanced problem would be return a path from src node to the dst node\n",
    "    \n",
    "    stack = [src]\n",
    "    while stack != []:\n",
    "        currentVistedNode = stack.pop()\n",
    "        if currentVistedNode == dst:\n",
    "            return True\n",
    "        for neighbor in graph[currentVistedNode]:\n",
    "            stack.append(neighbor)\n",
    "    \n",
    "    return False"
   ]
  },
  {
   "cell_type": "code",
   "execution_count": 315,
   "metadata": {},
   "outputs": [
    {
     "name": "stdout",
     "output_type": "stream",
     "text": [
      "False\n"
     ]
    }
   ],
   "source": [
    "print(haspath(g,'f','j'))"
   ]
  },
  {
   "attachments": {},
   "cell_type": "markdown",
   "metadata": {},
   "source": [
    "### Adjust the problem to print a path from src node to dst node"
   ]
  },
  {
   "cell_type": "code",
   "execution_count": 316,
   "metadata": {},
   "outputs": [],
   "source": [
    "def givepath(graph,src,dst):\n",
    "    # Given a src node, return whether there a path from the src node to the dst node\n",
    "    # More advanced problem would be return a path from src node to the dst node\n",
    "    # Everytime I backtrack, undo the damage by clearing up the path, \n",
    "    \n",
    "    path = []\n",
    "    traversed = []\n",
    "    \n",
    "    stack = [src]\n",
    "    while stack != []:\n",
    "        currentVistedNode = stack.pop()\n",
    "        \n",
    "        if currentVistedNode == '-':\n",
    "            # Undo the damage, by backtracking.\n",
    "            path.pop() \n",
    "        else:\n",
    "            # Everytime I visit a node, mark it as traversed and add it into the path\n",
    "            path.append(currentVistedNode)\n",
    "            traversed.append(currentVistedNode)\n",
    "            \n",
    "            for neighbor in graph[currentVistedNode]:\n",
    "                if neighbor == dst:\n",
    "                    # If neighbor is the dst, early return\n",
    "                    path.append(neighbor)\n",
    "                    return path\n",
    "                elif neighbor not in traversed:\n",
    "                    # Add only the node that is not yet traversed\n",
    "                    # The undo damage node when backtracking, define '-' as clear symbol\n",
    "                    stack.append('-') \n",
    "                    stack.append(neighbor)\n",
    "            \n",
    "    \n",
    "    return False"
   ]
  },
  {
   "cell_type": "code",
   "execution_count": 317,
   "metadata": {},
   "outputs": [
    {
     "name": "stdout",
     "output_type": "stream",
     "text": [
      "['f', 'i', 'k']\n",
      "False\n"
     ]
    }
   ],
   "source": [
    "print(givepath(g,'f','k'))\n",
    "print(givepath(g,'f','j'))"
   ]
  },
  {
   "attachments": {},
   "cell_type": "markdown",
   "metadata": {},
   "source": [
    "###  Traversing an undirected graph"
   ]
  },
  {
   "attachments": {},
   "cell_type": "markdown",
   "metadata": {},
   "source": [
    "#### Given an undirected graph, find a path from 1 node to another, do it in BFS manner"
   ]
  },
  {
   "cell_type": "code",
   "execution_count": 318,
   "metadata": {},
   "outputs": [],
   "source": [
    "g = {\n",
    "    'i' : ['k','j'],\n",
    "    'j' : ['i','k'],\n",
    "    'k' : ['i','j','l','m'],\n",
    "    'l' : ['k'],\n",
    "    'm' : ['k'],\n",
    "    'n' : ['o'],\n",
    "    'o' : ['n']\n",
    "}"
   ]
  },
  {
   "cell_type": "code",
   "execution_count": 319,
   "metadata": {},
   "outputs": [],
   "source": [
    "def givepath_bfs(graph,src,dst):\n",
    "    # Given an Undirected graph, src node and a destination node,\n",
    "    # Return a path from src node to destination using BFS traversal\n",
    "    MAXSIZE = 200\n",
    "    q = Queue(MAXSIZE,str)\n",
    "    q.enqueue(src)\n",
    "    \n",
    "    path = []\n",
    "    visited = []\n",
    "    \n",
    "    # While there is still node to reverse in queue,do the following\n",
    "    while q.isEmpty() is False:\n",
    " \n",
    "        #From the queue, take out the node to traverse\n",
    "        currentNode = q.dequeue()\n",
    "        \n",
    "        # Add node into path and visited\n",
    "        path.append(currentNode)\n",
    "        visited.append(currentNode)\n",
    "        \n",
    "        # From this node traverse the unvisted neighbor nodes\n",
    "        for neighbor in graph[currentNode]:\n",
    "            if neighbor not in visited:\n",
    "                fullyTraversed = True\n",
    "                q.enqueue(neighbor)\n",
    "                if neighbor == dst:\n",
    "                    path.append(neighbor)\n",
    "                    return path\n",
    "\n",
    "    return False\n",
    "        "
   ]
  },
  {
   "cell_type": "code",
   "execution_count": 320,
   "metadata": {},
   "outputs": [
    {
     "name": "stdout",
     "output_type": "stream",
     "text": [
      "['i', 'k', 'l']\n",
      "False\n"
     ]
    }
   ],
   "source": [
    "print(givepath_bfs(g,'i','l'))\n",
    "\n",
    "print(givepath_bfs(g,'l','n'))"
   ]
  },
  {
   "attachments": {},
   "cell_type": "markdown",
   "metadata": {},
   "source": [
    "### Converting edge representation in adjacency list representation"
   ]
  },
  {
   "cell_type": "code",
   "execution_count": 321,
   "metadata": {},
   "outputs": [
    {
     "name": "stdout",
     "output_type": "stream",
     "text": [
      "{'j': ['i', 'k'], 'i': ['j', 'k'], 'k': ['i', 'm', 'l', 'j'], 'm': ['k'], 'l': ['k', 'o'], 'n': ['o'], 'o': ['n', 'l']}\n"
     ]
    }
   ],
   "source": [
    "edges = [\n",
    "    ['i','j'],\n",
    "    ['k','i'],\n",
    "    ['m','k'],\n",
    "    ['k','l'],\n",
    "    ['o','n'],\n",
    "    ['j','k'],\n",
    "    ['o','l']\n",
    "]\n",
    "\n",
    "graph2 = {}\n",
    "\n",
    "# Converting the edges representation into undirected graph representation\n",
    "for edge in edges:\n",
    "    node1 = edge[0]\n",
    "    node2 = edge[1]\n",
    "    \n",
    "    # Check if node1 and node2 is in directory, if not add each other into each others directory\n",
    "    if node2 not in graph2:\n",
    "        # This not in search can actually be implemented using a binary search tree.\n",
    "        # If it is an optimal binary search tree, the seraching would become even faster.\n",
    "        graph2[node2] = []\n",
    "        graph2[node2].append(node1)\n",
    "    elif node1 not in graph2[node2]:\n",
    "        graph2[node2].append(node1)\n",
    "            \n",
    "    if node1 not in graph2:\n",
    "        graph2[node1] = []\n",
    "        graph2[node1].append(node2)\n",
    "    elif node2 not in graph2[node1]:\n",
    "        graph2[node1].append(node2)\n",
    "    \n",
    "print(graph2)"
   ]
  },
  {
   "cell_type": "code",
   "execution_count": 322,
   "metadata": {},
   "outputs": [],
   "source": [
    "# print(givepath_bfs(graph,'i','l'))"
   ]
  },
  {
   "attachments": {},
   "cell_type": "markdown",
   "metadata": {},
   "source": [
    "## Connected components count problem\n",
    "### Given a graph, count the number of connected components within this graph."
   ]
  },
  {
   "cell_type": "code",
   "execution_count": 323,
   "metadata": {},
   "outputs": [],
   "source": [
    "g = {\n",
    "     0: [1],\n",
    "     1: [0,2],\n",
    "     2: [1],\n",
    "     3: [],\n",
    "     4: [6],\n",
    "     5: [6],\n",
    "     6: [4,5,7,8],\n",
    "     7: [6],\n",
    "     8: [6]\n",
    "}\n",
    "# Need the iterative code to traverse every possible nodes\n",
    "# Also needs to traverse"
   ]
  },
  {
   "cell_type": "code",
   "execution_count": 324,
   "metadata": {},
   "outputs": [
    {
     "data": {
      "text/plain": [
       "[1]"
      ]
     },
     "execution_count": 324,
     "metadata": {},
     "output_type": "execute_result"
    }
   ],
   "source": [
    "g[0]"
   ]
  },
  {
   "attachments": {},
   "cell_type": "markdown",
   "metadata": {},
   "source": [
    "## Using stack for traversal"
   ]
  },
  {
   "cell_type": "code",
   "execution_count": 325,
   "metadata": {},
   "outputs": [],
   "source": [
    "visited = []\n",
    "stack = []\n",
    "count = 0\n",
    "\n",
    "#Explore every node in the graph\n",
    "for node in g:\n",
    "    # This is a Component only if it performs at least 1 dfs.\n",
    "    isComponent = False\n",
    "    \n",
    "    #If starting from this node, the whole component associated with this node is traversed\n",
    "    #Count += 1\n",
    "    #First check if this is a visited node, only start traversing if this node is not visited.\n",
    "    if node not in visited:\n",
    "        # print(node)\n",
    "        isComponent = True\n",
    "        stack = [node]\n",
    "    \n",
    "    #Do DFS starting from this node\n",
    "    while stack!=[]:\n",
    "        currentNode = stack.pop()\n",
    "        visited.append(currentNode)\n",
    "        \n",
    "        # Visit all the neighbor from this node\n",
    "        for neighbor in g[currentNode]:\n",
    "            if neighbor not in visited:\n",
    "                stack.append(neighbor)\n",
    "    \n",
    "    # If I have done the DFS for this node, count ++\n",
    "    if isComponent is True:\n",
    "        count += 1"
   ]
  },
  {
   "cell_type": "code",
   "execution_count": 326,
   "metadata": {},
   "outputs": [
    {
     "data": {
      "text/plain": [
       "3"
      ]
     },
     "execution_count": 326,
     "metadata": {},
     "output_type": "execute_result"
    }
   ],
   "source": [
    "count"
   ]
  },
  {
   "attachments": {},
   "cell_type": "markdown",
   "metadata": {},
   "source": [
    "## Largest Components \n",
    "### Return the number of nodes of the largest component"
   ]
  },
  {
   "cell_type": "code",
   "execution_count": 327,
   "metadata": {},
   "outputs": [],
   "source": [
    "visited = []\n",
    "stack = []\n",
    "largest_count = 0\n",
    "\n",
    "#Explore every node in the graph\n",
    "for node in g:\n",
    "    # This is a Component only if it performs at least 1 dfs.\n",
    "    isComponent = False\n",
    "    count = 0\n",
    "    \n",
    "    #If starting from this node, the whole component associated with this node is traversed\n",
    "    #Count += 1\n",
    "    #First check if this is a visited node, only start traversing if this node is not visited.\n",
    "    if node not in visited:\n",
    "        isComponent = True\n",
    "        stack = [node]\n",
    "    \n",
    "    #Do DFS starting from this node\n",
    "    while stack!=[]:\n",
    "        currentNode = stack.pop()\n",
    "        visited.append(currentNode)\n",
    "        count += 1\n",
    "        \n",
    "        # Visit all the neighbor from this node\n",
    "        for neighbor in g[currentNode]:\n",
    "            if neighbor not in visited:\n",
    "                stack.append(neighbor)\n",
    "    \n",
    "    # If I have done the DFS for this node, count ++\n",
    "    if isComponent is True:\n",
    "        # Compare with the current max\n",
    "        if count >= largest_count:\n",
    "            largest_count = count"
   ]
  },
  {
   "cell_type": "code",
   "execution_count": 328,
   "metadata": {},
   "outputs": [
    {
     "data": {
      "text/plain": [
       "5"
      ]
     },
     "execution_count": 328,
     "metadata": {},
     "output_type": "execute_result"
    }
   ],
   "source": [
    "largest_count"
   ]
  },
  {
   "attachments": {},
   "cell_type": "markdown",
   "metadata": {},
   "source": [
    "### Largest Components problem using Recursive algorithm of internal function call"
   ]
  },
  {
   "cell_type": "code",
   "execution_count": 329,
   "metadata": {},
   "outputs": [],
   "source": [
    "def find_largest_components(graph):\n",
    "    # Driver code\n",
    "    largest_count = 0\n",
    "    visited = []\n",
    "    \n",
    "    for node in graph:\n",
    "        count = 0\n",
    "        if node not in visited:\n",
    "            count = dfs_count_largest_components(graph,node,visited)\n",
    "        \n",
    "            if count >= largest_count:\n",
    "                largest_count = count \n",
    "\n",
    "    return largest_count\n",
    "\n",
    "def dfs_count_largest_components(graph,src_node,visited):\n",
    "    \n",
    "    count = 1\n",
    "    \n",
    "    if src_node not in visited:\n",
    "        # Mark visited once we traverse this node, also check if it is visited or not.\n",
    "        visited.append(src_node)\n",
    "        \n",
    "    for node in graph[src_node]:\n",
    "        if node not in visited:\n",
    "            count += dfs_count_largest_components(graph,node,visited)\n",
    "            \n",
    "\n",
    "    return count"
   ]
  },
  {
   "cell_type": "code",
   "execution_count": 330,
   "metadata": {},
   "outputs": [
    {
     "name": "stdout",
     "output_type": "stream",
     "text": [
      "5\n"
     ]
    }
   ],
   "source": [
    "print(find_largest_components(g))"
   ]
  },
  {
   "cell_type": "code",
   "execution_count": 331,
   "metadata": {},
   "outputs": [],
   "source": [
    "g = {\n",
    "    0:[8,1,5],\n",
    "    1:[0],\n",
    "    5:[0,8],\n",
    "    8:[0,5],\n",
    "    2:[3,4],\n",
    "    3:[2,4],\n",
    "    4:[3,2]\n",
    "}"
   ]
  },
  {
   "cell_type": "code",
   "execution_count": 332,
   "metadata": {},
   "outputs": [
    {
     "name": "stdout",
     "output_type": "stream",
     "text": [
      "4\n"
     ]
    }
   ],
   "source": [
    "print(find_largest_components(g))"
   ]
  },
  {
   "attachments": {},
   "cell_type": "markdown",
   "metadata": {},
   "source": [
    "### Shortest path(Not the weighted graph)\n",
    "#### Find the minimum path distance, i.e. the number of edges this certain path possesses.\n",
    "#### BFS in its essence, can find the shortest path\n",
    "#### You also need to store the node and distance to that node\n"
   ]
  },
  {
   "attachments": {},
   "cell_type": "markdown",
   "metadata": {},
   "source": [
    "### Try to find the shortest path with smallest edges count from one node to another"
   ]
  },
  {
   "cell_type": "code",
   "execution_count": 333,
   "metadata": {},
   "outputs": [],
   "source": [
    "edges = [\n",
    "    ['w','x'],\n",
    "    ['x','y'],\n",
    "    ['z','y'],\n",
    "    ['z','v'],\n",
    "    ['w','v']\n",
    "]"
   ]
  },
  {
   "cell_type": "code",
   "execution_count": 334,
   "metadata": {},
   "outputs": [],
   "source": [
    "\n",
    "# Converting the edges representation into undirected graph representation\n",
    "for edge in edges:\n",
    "    node1 = edge[0]\n",
    "    node2 = edge[1]\n",
    "    \n",
    "    # Check if node1 and node2 is in directory, if not add each other into each others directory\n",
    "    if node2 not in graph:\n",
    "        # This not in search can actually be implemented using a binary search tree.\n",
    "        # If it is an optimal binary search tree, the seraching would become even faster.\n",
    "        graph[node2] = []\n",
    "        graph[node2].append(node1)\n",
    "    elif node1 not in graph[node2]:\n",
    "        graph[node2].append(node1)\n",
    "            \n",
    "    if node1 not in graph:\n",
    "        graph[node1] = []\n",
    "        graph[node1].append(node2)\n",
    "    elif node2 not in graph[node1]:\n",
    "        graph[node1].append(node2)\n"
   ]
  },
  {
   "cell_type": "code",
   "execution_count": 335,
   "metadata": {},
   "outputs": [
    {
     "data": {
      "text/plain": [
       "{'a': ['b', 'c'],\n",
       " 'b': ['d'],\n",
       " 'c': ['e'],\n",
       " 'd': ['f'],\n",
       " 'e': [],\n",
       " 'f': [],\n",
       " 'x': ['w', 'y'],\n",
       " 'w': ['x', 'v'],\n",
       " 'y': ['x', 'z'],\n",
       " 'z': ['y', 'v'],\n",
       " 'v': ['z', 'w']}"
      ]
     },
     "execution_count": 335,
     "metadata": {},
     "output_type": "execute_result"
    }
   ],
   "source": [
    "graph"
   ]
  },
  {
   "attachments": {},
   "cell_type": "markdown",
   "metadata": {},
   "source": [
    "## Given a graph, a src node and an end node\n",
    "### Return the shortest path count"
   ]
  },
  {
   "cell_type": "code",
   "execution_count": 336,
   "metadata": {},
   "outputs": [],
   "source": [
    "MAXSIZE = 300\n",
    "q = Queue(MAXSIZE,str)\n",
    "\n",
    "src_node = 'w'\n",
    "end_node = 'z'\n",
    "visited = []\n",
    "\n",
    "path_count = 0\n",
    "end_point_found = 0\n",
    "\n",
    "q.enqueue(src_node)\n",
    "visited.append(src_node)\n",
    "\n",
    "while q.isEmpty() is False:\n",
    "    currentNode = q.dequeue()\n",
    "    \n",
    "    for neighbor in graph[currentNode]:\n",
    "        if neighbor not in visited:\n",
    "            q.enqueue(neighbor)\n",
    "        if neighbor == end_node:\n",
    "            path_count += 1\n",
    "            end_point_found = 1\n",
    "            break \n",
    "\n",
    "    if end_point_found == 1:\n",
    "        break\n",
    "    \n",
    "    path_count += 1      \n"
   ]
  },
  {
   "cell_type": "code",
   "execution_count": 337,
   "metadata": {},
   "outputs": [],
   "source": [
    "def shortest_path(graph, src_node, end_node):\n",
    "\n",
    "    MAXSIZE = 300\n",
    "    q = Queue(MAXSIZE,str)\n",
    "    q_int = Queue(MAXSIZE,int)\n",
    "    q_path = Queue(MAXSIZE,list)\n",
    "\n",
    "    visited = []\n",
    "    currentPath = []\n",
    "    \n",
    "\n",
    "    path_count = 0\n",
    "    end_point_found = 0\n",
    "\n",
    "    q.enqueue(src_node)\n",
    "    q_int.enqueue(0)\n",
    "    q_path.enqueue([])\n",
    "\n",
    "    # BFS\n",
    "    while q.isEmpty() is False:\n",
    "        currentNode = q.dequeue()\n",
    "        path_count  = q_int.dequeue()\n",
    "        currentPath = q_path.dequeue()\n",
    "                \n",
    "        visited.append(currentNode)\n",
    "        \n",
    "        for neighbor in graph[currentNode]:\n",
    "            if neighbor == end_node:\n",
    "                currentPath.append(neighbor)\n",
    "                path_count += 1\n",
    "                end_point_found = 1\n",
    "                break \n",
    "            \n",
    "            if neighbor not in visited:\n",
    "                new_count = path_count + 1\n",
    "                new_path  = currentPath.append(neighbor)\n",
    "                q_path.enqueue(new_path)\n",
    "                q_int.enqueue(new_count)\n",
    "                q.enqueue(neighbor)\n",
    "\n",
    "        if end_point_found == 1:\n",
    "            break\n",
    "            \n",
    "\n",
    "    return path_count, currentPath\n"
   ]
  },
  {
   "cell_type": "code",
   "execution_count": 338,
   "metadata": {},
   "outputs": [
    {
     "data": {
      "text/plain": [
       "{'a': ['b', 'c'],\n",
       " 'b': ['d'],\n",
       " 'c': ['e'],\n",
       " 'd': ['f'],\n",
       " 'e': [],\n",
       " 'f': [],\n",
       " 'x': ['w', 'y'],\n",
       " 'w': ['x', 'v'],\n",
       " 'y': ['x', 'z'],\n",
       " 'z': ['y', 'v'],\n",
       " 'v': ['z', 'w']}"
      ]
     },
     "execution_count": 338,
     "metadata": {},
     "output_type": "execute_result"
    }
   ],
   "source": [
    "graph"
   ]
  },
  {
   "cell_type": "code",
   "execution_count": 339,
   "metadata": {},
   "outputs": [],
   "source": [
    "# print(shortest_path(graph, 'w', 'z'))"
   ]
  },
  {
   "cell_type": "code",
   "execution_count": 340,
   "metadata": {},
   "outputs": [],
   "source": [
    "# graph2"
   ]
  },
  {
   "cell_type": "code",
   "execution_count": 341,
   "metadata": {},
   "outputs": [],
   "source": [
    "# print(shortest_path(graph2, 'n', 'j'))"
   ]
  },
  {
   "cell_type": "code",
   "execution_count": 342,
   "metadata": {},
   "outputs": [],
   "source": [
    "def shortest_path(graph, src_node, end_node):\n",
    "\n",
    "    MAXSIZE = 300\n",
    "    q = Queue(MAXSIZE,str)\n",
    "    q_int = Queue(MAXSIZE,int)\n",
    "    q_path = Queue(MAXSIZE,list)\n",
    "\n",
    "    visited = []\n",
    "    currentPath = []\n",
    "    \n",
    "\n",
    "    path_count = 0\n",
    "    end_point_found = 0\n",
    "\n",
    "    q.enqueue(src_node)\n",
    "    q_int.enqueue(0)\n",
    "    q_path.enqueue([src_node])\n",
    "\n",
    "    # BFS\n",
    "    while q.isEmpty() is False:\n",
    "        currentNode = q.dequeue()\n",
    "        path_count  = q_int.dequeue()\n",
    "        currentPath = q_path.dequeue()\n",
    "        print(currentPath)\n",
    "                \n",
    "        visited.append(currentNode)\n",
    "        \n",
    "        for neighbor in graph[currentNode]:\n",
    "            if neighbor == end_node:\n",
    "                currentPath.append(neighbor)\n",
    "                path_count += 1\n",
    "                end_point_found = 1\n",
    "                break \n",
    "            \n",
    "            if neighbor not in visited:\n",
    "                new_count = path_count + 1\n",
    "                print(currentPath)\n",
    "                new_path  = currentPath.append(neighbor)\n",
    "                q_path.enqueue(new_path)\n",
    "                q_int.enqueue(new_count)\n",
    "                q.enqueue(neighbor)\n",
    "\n",
    "        if end_point_found == 1:\n",
    "            break\n",
    "            \n",
    "\n",
    "    return path_count, currentPath"
   ]
  },
  {
   "attachments": {},
   "cell_type": "markdown",
   "metadata": {},
   "source": [
    "### Island counting problem"
   ]
  },
  {
   "cell_type": "code",
   "execution_count": 343,
   "metadata": {},
   "outputs": [],
   "source": [
    "grid = [\n",
    "    ['L','L','W','W','W'],\n",
    "    ['W','L','W','W','W'],\n",
    "    ['W','W','W','L','W'],\n",
    "    ['W','W','L','L','W'],\n",
    "    ['L','W','W','L','L'],\n",
    "    ['L','L','W','W','W']\n",
    "]"
   ]
  },
  {
   "cell_type": "code",
   "execution_count": 344,
   "metadata": {},
   "outputs": [],
   "source": [
    "def one_pad_matrix(matrix):\n",
    "    # Step 1: Identify maximum width and height\n",
    "    max_width = max(len(row) for row in matrix)\n",
    "    max_height = len(matrix)\n",
    "\n",
    "    # Step 2: Create new matrix with padding\n",
    "    # max_width + 2 because the new matrix has a max_width\n",
    "    padded_matrix = [['W'] * (max_width + 2) for _ in range(max_height + 2)]\n",
    "\n",
    "    # Step 3: Copy original grid values\n",
    "    for i in range(max_height):\n",
    "        for j in range(max_width):\n",
    "            padded_matrix[i+1][j+1] = matrix[i][j]\n",
    "\n",
    "    return padded_matrix\n"
   ]
  },
  {
   "cell_type": "code",
   "execution_count": 345,
   "metadata": {},
   "outputs": [],
   "source": [
    "new_grid = one_pad_matrix(grid)"
   ]
  },
  {
   "cell_type": "code",
   "execution_count": 346,
   "metadata": {},
   "outputs": [],
   "source": [
    "class pos_dir: \n",
    "    N = [-1,0]\n",
    "    S = [ 1,0]\n",
    "    E = [ 0,1]\n",
    "    W = [0,-1]    "
   ]
  },
  {
   "cell_type": "code",
   "execution_count": 354,
   "metadata": {},
   "outputs": [],
   "source": [
    "def explore_land(grid,current_location,visited):\n",
    "    visited.append(current_location)\n",
    "    x = current_location[0]\n",
    "    y = current_location[1]\n",
    "    \n",
    "    north = [x+pos_dir.N[0],y+pos_dir.N[1]]\n",
    "    south = [x+pos_dir.S[0],y+pos_dir.S[1]]\n",
    "    east  = [x+pos_dir.E[0],y+pos_dir.E[1]]\n",
    "    west  = [x+pos_dir.W[0],y+pos_dir.W[1]]\n",
    "    \n",
    "    #DFS explore in every direction,4 directions , N,S,E,W\n",
    "    pos_cell = [north,south,east,west]\n",
    "\n",
    "    for cell in pos_cell:\n",
    "        if grid[cell[0]][cell[1]] == 'L':\n",
    "            if cell not in visited:\n",
    "                visited.append(cell)\n",
    "                explore_land(grid,cell,visited)\n",
    "    \n",
    "    return True\n"
   ]
  },
  {
   "cell_type": "code",
   "execution_count": 355,
   "metadata": {},
   "outputs": [],
   "source": [
    "def island_count(grid):\n",
    "    # One-padded the grid first\n",
    "    new_grid = one_pad_matrix(grid)\n",
    "    \n",
    "    visited = []\n",
    "    count   = 0\n",
    "\n",
    "    ## Start seraching for islands starting from 1 ends at length -1\n",
    "    for x in range (1,len(new_grid)-1):\n",
    "        for y in range(1,len(new_grid)-1):\n",
    "            currentCell = new_grid[x][y]\n",
    "            if currentCell == 'L' and [x,y] not in visited:\n",
    "                # If the land is not yet visited, explore the island\n",
    "                if explore_land(new_grid,[x,y],visited) is True:\n",
    "                    count   += 1\n",
    "    \n",
    "    return count\n"
   ]
  },
  {
   "cell_type": "code",
   "execution_count": 356,
   "metadata": {},
   "outputs": [
    {
     "data": {
      "text/plain": [
       "3"
      ]
     },
     "execution_count": 356,
     "metadata": {},
     "output_type": "execute_result"
    }
   ],
   "source": [
    "island_count(grid)"
   ]
  },
  {
   "cell_type": "code",
   "execution_count": 357,
   "metadata": {},
   "outputs": [],
   "source": [
    "grid2 = [\n",
    "    ['L','L'],\n",
    "    ['L','L'],\n",
    "    ['L','L']    \n",
    "]"
   ]
  },
  {
   "cell_type": "code",
   "execution_count": 358,
   "metadata": {},
   "outputs": [
    {
     "data": {
      "text/plain": [
       "1"
      ]
     },
     "execution_count": 358,
     "metadata": {},
     "output_type": "execute_result"
    }
   ],
   "source": [
    "island_count(grid2)"
   ]
  }
 ],
 "metadata": {
  "kernelspec": {
   "display_name": "Python 3",
   "language": "python",
   "name": "python3"
  },
  "language_info": {
   "codemirror_mode": {
    "name": "ipython",
    "version": 3
   },
   "file_extension": ".py",
   "mimetype": "text/x-python",
   "name": "python",
   "nbconvert_exporter": "python",
   "pygments_lexer": "ipython3",
   "version": "3.9.12"
  },
  "orig_nbformat": 4
 },
 "nbformat": 4,
 "nbformat_minor": 2
}
