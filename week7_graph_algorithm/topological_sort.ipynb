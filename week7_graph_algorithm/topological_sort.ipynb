{
 "cells": [
  {
   "attachments": {},
   "cell_type": "markdown",
   "metadata": {},
   "source": [
    "### Topological sort\n",
    "#### https://www.youtube.com/watch?v=eL-KzMXSXXI&list=PLDV1Zeh2NRsDGO4--qE8yH72HFL1Km93P&index=15\n",
    "#### This algorithm tell us the order of the prerequisites\n",
    "#### A topological ordering on a directed graph can be found by using the topological ordering algorithm"
   ]
  },
  {
   "attachments": {},
   "cell_type": "markdown",
   "metadata": {},
   "source": [
    "#### Graph with directed cycle! Does not have topological ordering"
   ]
  },
  {
   "attachments": {},
   "cell_type": "markdown",
   "metadata": {},
   "source": [
    "# Algo\n",
    "1. Pick an unvisited node\n",
    "2. Begin with the selected node, do a DFS exploring only the unvisited nodes\n",
    "3. On the recursive callback of the DFS, add current node to the topological ordering in reverse order.\n",
    "4. Topological ordering is not unique"
   ]
  },
  {
   "attachments": {},
   "cell_type": "markdown",
   "metadata": {},
   "source": [
    "#### Note when doing DFS recursive calls, one needs a driver function to first drive in the root node or the starting node\n",
    "#### To get the topological ordering, program build dependencies"
   ]
  },
  {
   "cell_type": "code",
   "execution_count": 83,
   "metadata": {},
   "outputs": [],
   "source": [
    "g = {\n",
    "    'h':['j','i'],\n",
    "    'j':['m','l'],\n",
    "    'm':[],\n",
    "    'l':[],\n",
    "    'i':['l'],\n",
    "    'e':['a','d','f'],\n",
    "    'a':['d'],\n",
    "    'd':['h','g'],\n",
    "    'g':['i'],\n",
    "    'f':['k','j'],\n",
    "    'j':['m'],\n",
    "    'c':['a','b'],\n",
    "    'b':['d'],\n",
    "    'k':['j']\n",
    "}"
   ]
  },
  {
   "cell_type": "code",
   "execution_count": 84,
   "metadata": {},
   "outputs": [],
   "source": [
    "def dfs_top_sort(srcNode,visited,graph,top_sort):\n",
    "    if graph[srcNode] == []:\n",
    "        return srcNode,top_sort\n",
    "    \n",
    "    for neighbor in graph[srcNode]:\n",
    "        if neighbor not in visited:\n",
    "            visited.append(neighbor)\n",
    "            # The DFS returns the node and the appended top_sort list\n",
    "            node,top_sort = dfs_top_sort(neighbor,visited,graph,top_sort)\n",
    "            \n",
    "            # Append this returned traversed node into topsort\n",
    "            top_sort.append(node)\n",
    "\n",
    "    return srcNode,top_sort"
   ]
  },
  {
   "cell_type": "code",
   "execution_count": 85,
   "metadata": {},
   "outputs": [],
   "source": [
    "def dfs_top_sort_driver(g):\n",
    "    top_sort = []\n",
    "    visited = []\n",
    "    \n",
    "    # Randomly pick from the unvisited nodes in g\n",
    "    for srcNode in g:\n",
    "        if srcNode not in visited:\n",
    "            node , top_sort = dfs_top_sort(srcNode,visited,g,top_sort)\n",
    "            top_sort.append(node)\n",
    "    \n",
    "    top_sort.reverse()\n",
    "    \n",
    "    return top_sort"
   ]
  },
  {
   "cell_type": "code",
   "execution_count": 86,
   "metadata": {},
   "outputs": [
    {
     "data": {
      "text/plain": [
       "['c', 'b', 'e', 'f', 'k', 'a', 'd', 'g', 'h', 'h', 'i', 'l', 'j', 'm']"
      ]
     },
     "execution_count": 86,
     "metadata": {},
     "output_type": "execute_result"
    }
   ],
   "source": [
    "srcNode = 'h'\n",
    "dfs_top_sort_driver(g)"
   ]
  },
  {
   "attachments": {},
   "cell_type": "markdown",
   "metadata": {},
   "source": [
    "### Kahn's algorithm"
   ]
  },
  {
   "attachments": {},
   "cell_type": "markdown",
   "metadata": {},
   "source": [
    "#### Repeatedly remove ndoes without any dependencies from the graph, add them to the topological odering\n",
    "#### As noes without dependencies are removed from graph, new nodes without dependencies should be free\n",
    "#### Repeatedly removing edges without dependencies from graph, until all nodes processed, or a cycle is discovered."
   ]
  },
  {
   "attachments": {},
   "cell_type": "markdown",
   "metadata": {},
   "source": [
    "#### InDegree is important for determining whether the node has no dependencies or not."
   ]
  },
  {
   "cell_type": "code",
   "execution_count": 100,
   "metadata": {},
   "outputs": [],
   "source": [
    "g = {\n",
    "    2:[0,4],\n",
    "    0:[1,3],\n",
    "    4:[3,5],\n",
    "    3:[1],\n",
    "    5:[1],\n",
    "    1:[]\n",
    "}"
   ]
  },
  {
   "cell_type": "code",
   "execution_count": 101,
   "metadata": {},
   "outputs": [],
   "source": [
    "def getInDegreeList(graph):\n",
    "    in_degree_list = {}\n",
    "    for node in graph:\n",
    "        if node not in in_degree_list:\n",
    "                in_degree_list[node] = 0\n",
    "                \n",
    "        for neighbor in graph[node]:\n",
    "            if neighbor not in in_degree_list:\n",
    "                in_degree_list[neighbor] = 1\n",
    "            else:\n",
    "                in_degree_list[neighbor] += 1\n",
    "    \n",
    "    return in_degree_list\n",
    "    "
   ]
  },
  {
   "cell_type": "code",
   "execution_count": 102,
   "metadata": {},
   "outputs": [
    {
     "name": "stdout",
     "output_type": "stream",
     "text": [
      "{2: 0, 0: 1, 4: 1, 1: 3, 3: 2, 5: 1}\n"
     ]
    }
   ],
   "source": [
    "print(getInDegreeList(g))"
   ]
  },
  {
   "cell_type": "code",
   "execution_count": 124,
   "metadata": {},
   "outputs": [],
   "source": [
    "import queue\n",
    "def kahn_top_sort(graph):\n",
    "    top_sorted_list = []\n",
    "    visited = []\n",
    "    in_degree_dict = {}\n",
    "    #1. Get the in-degree list of this graph\n",
    "    in_degree_dict = getInDegreeList(graph)\n",
    "    #2. Instantiate a queue\n",
    "    q = queue.Queue()\n",
    "    \n",
    "    #3.\n",
    "    num_of_element = len(in_degree_dict)\n",
    "    cnt = 0\n",
    "    \n",
    "    #4. While there are still more nodes to explore from the in-degree list, do\n",
    "    while cnt < num_of_element:\n",
    "        # print(\"More nodes to explore\")\n",
    "        #4-1 Push the none traversed node and the node with in-degree of 0 into the queue\n",
    "        for node in in_degree_dict:\n",
    "            if in_degree_dict[node] == 0 and node not in visited:\n",
    "                # print(node)\n",
    "                q.put(node)\n",
    "        \n",
    "        #4-2 while there are still more nodes in queue\n",
    "        while not q.empty():\n",
    "            #4-2-1 take the node to traverse out from the queue and put it into top list\n",
    "            node = q.get()\n",
    "            top_sorted_list.append(node)\n",
    "            cnt += 1\n",
    "            \n",
    "            #4-2-2 Mark it as traversed\n",
    "            visited.append(node)         \n",
    "            \n",
    "            for neighbor in graph[node]:\n",
    "                #4-2-3 Decrement the node's neighbor's in-degree value by 1\n",
    "                if in_degree_dict[neighbor] != 0:\n",
    "                    in_degree_dict[neighbor] -= 1\n",
    "    \n",
    "    return top_sorted_list"
   ]
  },
  {
   "cell_type": "code",
   "execution_count": 125,
   "metadata": {},
   "outputs": [
    {
     "name": "stdout",
     "output_type": "stream",
     "text": [
      "[2, 0, 4, 3, 5, 1]\n"
     ]
    }
   ],
   "source": [
    "print(kahn_top_sort(g))"
   ]
  }
 ],
 "metadata": {
  "kernelspec": {
   "display_name": "Python 3",
   "language": "python",
   "name": "python3"
  },
  "language_info": {
   "codemirror_mode": {
    "name": "ipython",
    "version": 3
   },
   "file_extension": ".py",
   "mimetype": "text/x-python",
   "name": "python",
   "nbconvert_exporter": "python",
   "pygments_lexer": "ipython3",
   "version": "3.9.12"
  },
  "orig_nbformat": 4
 },
 "nbformat": 4,
 "nbformat_minor": 2
}
